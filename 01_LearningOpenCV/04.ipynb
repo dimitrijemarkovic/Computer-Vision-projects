{
 "cells": [
  {
   "cell_type": "code",
   "execution_count": 1,
   "id": "5ebe12a8",
   "metadata": {},
   "outputs": [],
   "source": [
    "import os"
   ]
  },
  {
   "cell_type": "code",
   "execution_count": 3,
   "id": "08a9b721",
   "metadata": {},
   "outputs": [],
   "source": [
    "import cv2"
   ]
  },
  {
   "cell_type": "code",
   "execution_count": 4,
   "id": "147cfcec",
   "metadata": {},
   "outputs": [],
   "source": [
    "img = cv2.imread('papagaj.jpg')"
   ]
  },
  {
   "cell_type": "code",
   "execution_count": 13,
   "id": "4d36746e",
   "metadata": {},
   "outputs": [],
   "source": [
    "k_size = 5\n",
    "img_blur = cv2.blur(img, (k_size, k_size))"
   ]
  },
  {
   "cell_type": "code",
   "execution_count": 14,
   "id": "5be87598",
   "metadata": {},
   "outputs": [
    {
     "data": {
      "text/plain": [
       "-1"
      ]
     },
     "execution_count": 14,
     "metadata": {},
     "output_type": "execute_result"
    }
   ],
   "source": [
    "cv2.imshow('img', img)\n",
    "cv2.imshow('img2', img_blur)\n",
    "\n",
    "cv2.waitKey(0)"
   ]
  },
  {
   "cell_type": "code",
   "execution_count": null,
   "id": "3e016ebe",
   "metadata": {},
   "outputs": [],
   "source": []
  }
 ],
 "metadata": {
  "kernelspec": {
   "display_name": "Python 3 (ipykernel)",
   "language": "python",
   "name": "python3"
  },
  "language_info": {
   "codemirror_mode": {
    "name": "ipython",
    "version": 3
   },
   "file_extension": ".py",
   "mimetype": "text/x-python",
   "name": "python",
   "nbconvert_exporter": "python",
   "pygments_lexer": "ipython3",
   "version": "3.10.7"
  }
 },
 "nbformat": 4,
 "nbformat_minor": 5
}
