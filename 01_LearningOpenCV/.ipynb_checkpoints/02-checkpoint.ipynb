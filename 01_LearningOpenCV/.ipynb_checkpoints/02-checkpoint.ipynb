{
 "cells": [
  {
   "cell_type": "code",
   "execution_count": 1,
   "id": "83b5aa8f",
   "metadata": {},
   "outputs": [],
   "source": [
    "import os\n",
    "import cv2"
   ]
  },
  {
   "cell_type": "code",
   "execution_count": 25,
   "id": "94819751",
   "metadata": {},
   "outputs": [],
   "source": [
    "img = cv2.imread('bird.jpg')\n",
    "\n",
    "resized_img = cv2.resize(img, (400, 200))"
   ]
  },
  {
   "cell_type": "code",
   "execution_count": 26,
   "id": "90f91230",
   "metadata": {},
   "outputs": [
    {
     "name": "stdout",
     "output_type": "stream",
     "text": [
      "(169, 299, 3)\n",
      "(200, 400, 3)\n"
     ]
    }
   ],
   "source": [
    "print(img.shape)\n",
    "print(resized_img.shape)"
   ]
  },
  {
   "cell_type": "code",
   "execution_count": 29,
   "id": "1537a81c",
   "metadata": {},
   "outputs": [
    {
     "data": {
      "text/plain": [
       "-1"
      ]
     },
     "execution_count": 29,
     "metadata": {},
     "output_type": "execute_result"
    }
   ],
   "source": [
    "cv2.imshow('img', resized_img)\n",
    "cv2.waitKey(0)"
   ]
  },
  {
   "cell_type": "code",
   "execution_count": 32,
   "id": "09209683",
   "metadata": {},
   "outputs": [],
   "source": [
    "img = cv2.imread('bird.jpg')"
   ]
  },
  {
   "cell_type": "code",
   "execution_count": 33,
   "id": "0b161eb4",
   "metadata": {},
   "outputs": [],
   "source": [
    "cropped_img = img[50:150,100:200]"
   ]
  },
  {
   "cell_type": "code",
   "execution_count": 34,
   "id": "1e3dbb65",
   "metadata": {},
   "outputs": [
    {
     "data": {
      "text/plain": [
       "-1"
      ]
     },
     "execution_count": 34,
     "metadata": {},
     "output_type": "execute_result"
    }
   ],
   "source": [
    "cv2.imshow('img', cropped_img)\n",
    "cv2.waitKey(0)"
   ]
  },
  {
   "cell_type": "code",
   "execution_count": null,
   "id": "61f60454",
   "metadata": {},
   "outputs": [],
   "source": []
  }
 ],
 "metadata": {
  "kernelspec": {
   "display_name": "Python 3 (ipykernel)",
   "language": "python",
   "name": "python3"
  },
  "language_info": {
   "codemirror_mode": {
    "name": "ipython",
    "version": 3
   },
   "file_extension": ".py",
   "mimetype": "text/x-python",
   "name": "python",
   "nbconvert_exporter": "python",
   "pygments_lexer": "ipython3",
   "version": "3.10.7"
  }
 },
 "nbformat": 4,
 "nbformat_minor": 5
}
