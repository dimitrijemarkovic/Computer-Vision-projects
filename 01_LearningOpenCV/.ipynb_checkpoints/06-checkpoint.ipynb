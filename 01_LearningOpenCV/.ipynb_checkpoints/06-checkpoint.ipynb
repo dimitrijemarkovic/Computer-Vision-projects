{
 "cells": [
  {
   "cell_type": "code",
   "execution_count": 8,
   "id": "41eee6f1",
   "metadata": {},
   "outputs": [],
   "source": [
    "import os\n",
    "import numpy as np"
   ]
  },
  {
   "cell_type": "code",
   "execution_count": 3,
   "id": "93816cc8",
   "metadata": {},
   "outputs": [],
   "source": [
    "import cv2"
   ]
  },
  {
   "cell_type": "code",
   "execution_count": 4,
   "id": "f75d2a70",
   "metadata": {},
   "outputs": [],
   "source": [
    "img = cv2.imread('papagaj.jpg')"
   ]
  },
  {
   "cell_type": "code",
   "execution_count": 11,
   "id": "cbfea5cb",
   "metadata": {},
   "outputs": [],
   "source": [
    "img_edge = cv2.Canny(img, 100, 200)"
   ]
  },
  {
   "cell_type": "code",
   "execution_count": 14,
   "id": "ef5a1c4f",
   "metadata": {},
   "outputs": [],
   "source": [
    "img_edge_d = cv2.dilate(img_edge, np.ones((3, 3), dtype=np.int8))"
   ]
  },
  {
   "cell_type": "code",
   "execution_count": 16,
   "id": "08edcbb1",
   "metadata": {},
   "outputs": [],
   "source": [
    "img_edge_e = cv2.erode(img_edge, np.ones((3, 3), dtype=np.int8))"
   ]
  },
  {
   "cell_type": "code",
   "execution_count": 17,
   "id": "7abaab98",
   "metadata": {},
   "outputs": [
    {
     "data": {
      "text/plain": [
       "-1"
      ]
     },
     "execution_count": 17,
     "metadata": {},
     "output_type": "execute_result"
    }
   ],
   "source": [
    "cv2.imshow('img', img)\n",
    "cv2.imshow('img_edge', img_edge)\n",
    "cv2.imshow('img_edge_d', img_edge_d)\n",
    "cv2.imshow('img_edge_e', img_edge_e)\n",
    "cv2.waitKey(0)"
   ]
  },
  {
   "cell_type": "code",
   "execution_count": null,
   "id": "5648cc2b",
   "metadata": {},
   "outputs": [],
   "source": []
  }
 ],
 "metadata": {
  "kernelspec": {
   "display_name": "Python 3 (ipykernel)",
   "language": "python",
   "name": "python3"
  },
  "language_info": {
   "codemirror_mode": {
    "name": "ipython",
    "version": 3
   },
   "file_extension": ".py",
   "mimetype": "text/x-python",
   "name": "python",
   "nbconvert_exporter": "python",
   "pygments_lexer": "ipython3",
   "version": "3.10.7"
  }
 },
 "nbformat": 4,
 "nbformat_minor": 5
}
