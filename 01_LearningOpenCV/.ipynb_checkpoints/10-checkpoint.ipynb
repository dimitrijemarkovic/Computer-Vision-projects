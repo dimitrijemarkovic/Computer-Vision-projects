{
 "cells": [
  {
   "cell_type": "code",
   "execution_count": 54,
   "id": "a57498d2",
   "metadata": {},
   "outputs": [],
   "source": [
    "import os\n",
    "import cv2\n",
    "import mediapipe as mp\n",
    "import argparse"
   ]
  },
  {
   "cell_type": "code",
   "execution_count": 55,
   "id": "283599b0",
   "metadata": {},
   "outputs": [],
   "source": [
    "img = cv2.imread('johnsnow.png')\n",
    "H, W, _ = img.shape"
   ]
  },
  {
   "cell_type": "code",
   "execution_count": 56,
   "id": "bced4b5e",
   "metadata": {},
   "outputs": [],
   "source": [
    "def process_img(img, face_detection):\n",
    "    img_rgb = cv2.cvtColor(img, cv2.COLOR_BGR2RGB)\n",
    "    out = face_detection.process(img_rgb)\n",
    "    \n",
    "    if out.detections is not None:\n",
    "        for detection in out.detections:\n",
    "            location_data = detection.location_data\n",
    "            bbox = location_data.relative_bounding_box\n",
    "        \n",
    "            x1, y1, w, h = bbox.xmin, bbox.ymin, bbox.width, bbox.height\n",
    "            \n",
    "            x1 = int(x1 * W)\n",
    "            y1 = int(y1 * H)\n",
    "            w = int(w * W)\n",
    "            h = int(h * H)\n",
    "            \n",
    "#             img = cv2.rectangle(img, (x1, y1), (x1+w, y1+h), (0,255,0), 3)\n",
    "            img[y1:y1+h, x1:x1+w, :] = cv2.blur(img[y1:y1+h, x1:x1+w, :], (30, 30))\n",
    "    \n",
    "    return img"
   ]
  },
  {
   "cell_type": "code",
   "execution_count": 57,
   "id": "2a27162b",
   "metadata": {},
   "outputs": [],
   "source": [
    "# args = argparse.ArgumentParser()"
   ]
  },
  {
   "cell_type": "code",
   "execution_count": 58,
   "id": "c986a0ad",
   "metadata": {},
   "outputs": [],
   "source": [
    "# args.add_argument(\"--mode\", default='image')\n",
    "# args.add_argument(\"--filePath\", default='johnsnow.png')\n",
    "# args = args.parse_args()\n"
   ]
  },
  {
   "cell_type": "code",
   "execution_count": 59,
   "id": "7270b178",
   "metadata": {},
   "outputs": [],
   "source": [
    "mp_face_detection = mp.solutions.face_detection"
   ]
  },
  {
   "cell_type": "code",
   "execution_count": 60,
   "id": "89a14946",
   "metadata": {},
   "outputs": [],
   "source": [
    "with mp_face_detection.FaceDetection(min_detection_confidence=0.6, model_selection=0)as face_detection:\n",
    "    img_rgb = cv2.cvtColor(img, cv2.COLOR_BGR2RGB)\n",
    "    out = face_detection.process(img_rgb)\n",
    "    \n",
    "    if out.detections is not None:\n",
    "        for detection in out.detections:\n",
    "            location_data = detection.location_data\n",
    "            bbox = location_data.relative_bounding_box\n",
    "        \n",
    "            x1, y1, w, h = bbox.xmin, bbox.ymin, bbox.width, bbox.height\n",
    "            \n",
    "            x1 = int(x1 * W)\n",
    "            y1 = int(y1 * H)\n",
    "            w = int(w * W)\n",
    "            h = int(h * H)\n",
    "            \n",
    "#             img = cv2.rectangle(img, (x1, y1), (x1+w, y1+h), (0,255,0), 3)\n",
    "            img[y1:y1+h, x1:x1+w, :] = cv2.blur(img[y1:y1+h, x1:x1+w, :], (30, 30))\n",
    "    \n",
    "            cv2.imshow('img', img)\n",
    "            cv2.waitKey(0)\n",
    "            \n",
    "        "
   ]
  },
  {
   "cell_type": "code",
   "execution_count": null,
   "id": "2c6a66a0",
   "metadata": {},
   "outputs": [],
   "source": []
  },
  {
   "cell_type": "code",
   "execution_count": 61,
   "id": "92065fb3",
   "metadata": {},
   "outputs": [],
   "source": [
    "# with mp_face_detection.FaceDetection(min_detection_confidence=0.6, model_selection=0)as face_detection:\n",
    "    \n",
    "#     if args.mode in [\"image\"]:\n",
    "#         img = cv2.imread(args.filepath)\n",
    "#         H, W, _ = img.shape\n",
    "    \n",
    "#     img = process_img(img, face_detection)"
   ]
  },
  {
   "cell_type": "code",
   "execution_count": 62,
   "id": "bc834a06",
   "metadata": {},
   "outputs": [
    {
     "data": {
      "text/plain": [
       "True"
      ]
     },
     "execution_count": 62,
     "metadata": {},
     "output_type": "execute_result"
    }
   ],
   "source": [
    "cv2.imwrite('anonymizer.png',img)"
   ]
  },
  {
   "cell_type": "code",
   "execution_count": null,
   "id": "0088393e",
   "metadata": {},
   "outputs": [],
   "source": []
  },
  {
   "cell_type": "code",
   "execution_count": null,
   "id": "d2226b94",
   "metadata": {},
   "outputs": [],
   "source": []
  },
  {
   "cell_type": "code",
   "execution_count": 12,
   "id": "1e9e6200",
   "metadata": {},
   "outputs": [],
   "source": [
    "# cv2.imshow('img', img)\n",
    "# cv2.waitKey(0)"
   ]
  },
  {
   "cell_type": "code",
   "execution_count": null,
   "id": "46056e64",
   "metadata": {},
   "outputs": [],
   "source": []
  }
 ],
 "metadata": {
  "kernelspec": {
   "display_name": "Python 3 (ipykernel)",
   "language": "python",
   "name": "python3"
  },
  "language_info": {
   "codemirror_mode": {
    "name": "ipython",
    "version": 3
   },
   "file_extension": ".py",
   "mimetype": "text/x-python",
   "name": "python",
   "nbconvert_exporter": "python",
   "pygments_lexer": "ipython3",
   "version": "3.10.7"
  }
 },
 "nbformat": 4,
 "nbformat_minor": 5
}
