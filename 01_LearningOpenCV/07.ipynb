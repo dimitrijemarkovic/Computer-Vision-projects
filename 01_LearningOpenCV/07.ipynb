{
 "cells": [
  {
   "cell_type": "code",
   "execution_count": 10,
   "id": "c1b0519c",
   "metadata": {},
   "outputs": [],
   "source": [
    "import os\n",
    "import cv2"
   ]
  },
  {
   "cell_type": "code",
   "execution_count": 25,
   "id": "10cb9c7f",
   "metadata": {},
   "outputs": [
    {
     "data": {
      "text/plain": [
       "(415, 650, 3)"
      ]
     },
     "execution_count": 25,
     "metadata": {},
     "output_type": "execute_result"
    }
   ],
   "source": [
    "img = cv2.imread('whiteboard.jpg')\n",
    "img.shape"
   ]
  },
  {
   "cell_type": "code",
   "execution_count": 26,
   "id": "0f278c1e",
   "metadata": {},
   "outputs": [],
   "source": [
    "# cv2.line(img, (100,150), (150, 200), (0, 255, 0), 3)"
   ]
  },
  {
   "cell_type": "code",
   "execution_count": 27,
   "id": "2e82e154",
   "metadata": {},
   "outputs": [
    {
     "data": {
      "text/plain": [
       "array([[[246, 246, 246],\n",
       "        [252, 252, 252],\n",
       "        [242, 242, 242],\n",
       "        ...,\n",
       "        [246, 246, 246],\n",
       "        [246, 246, 246],\n",
       "        [246, 246, 246]],\n",
       "\n",
       "       [[243, 243, 243],\n",
       "        [251, 251, 251],\n",
       "        [249, 249, 249],\n",
       "        ...,\n",
       "        [246, 246, 246],\n",
       "        [246, 246, 246],\n",
       "        [246, 246, 246]],\n",
       "\n",
       "       [[252, 252, 252],\n",
       "        [235, 235, 235],\n",
       "        [232, 232, 232],\n",
       "        ...,\n",
       "        [246, 246, 246],\n",
       "        [246, 246, 246],\n",
       "        [246, 246, 246]],\n",
       "\n",
       "       ...,\n",
       "\n",
       "       [[246, 246, 246],\n",
       "        [246, 246, 246],\n",
       "        [246, 246, 246],\n",
       "        ...,\n",
       "        [248, 248, 248],\n",
       "        [246, 246, 246],\n",
       "        [246, 246, 246]],\n",
       "\n",
       "       [[246, 246, 246],\n",
       "        [246, 246, 246],\n",
       "        [246, 246, 246],\n",
       "        ...,\n",
       "        [244, 244, 244],\n",
       "        [246, 246, 246],\n",
       "        [246, 246, 246]],\n",
       "\n",
       "       [[246, 246, 246],\n",
       "        [246, 246, 246],\n",
       "        [246, 246, 246],\n",
       "        ...,\n",
       "        [247, 247, 247],\n",
       "        [246, 246, 246],\n",
       "        [246, 246, 246]]], dtype=uint8)"
      ]
     },
     "execution_count": 27,
     "metadata": {},
     "output_type": "execute_result"
    }
   ],
   "source": [
    "cv2.rectangle(img, (100, 150), (200, 250), (255, 0, 0), 2)"
   ]
  },
  {
   "cell_type": "code",
   "execution_count": null,
   "id": "f9784c9a",
   "metadata": {},
   "outputs": [],
   "source": []
  },
  {
   "cell_type": "code",
   "execution_count": 28,
   "id": "f436c935",
   "metadata": {},
   "outputs": [
    {
     "data": {
      "text/plain": [
       "-1"
      ]
     },
     "execution_count": 28,
     "metadata": {},
     "output_type": "execute_result"
    }
   ],
   "source": [
    "cv2.imshow('img', img)\n",
    "cv2.waitKey(0)"
   ]
  },
  {
   "cell_type": "code",
   "execution_count": null,
   "id": "42511bd8",
   "metadata": {},
   "outputs": [],
   "source": []
  }
 ],
 "metadata": {
  "kernelspec": {
   "display_name": "Python 3 (ipykernel)",
   "language": "python",
   "name": "python3"
  },
  "language_info": {
   "codemirror_mode": {
    "name": "ipython",
    "version": 3
   },
   "file_extension": ".py",
   "mimetype": "text/x-python",
   "name": "python",
   "nbconvert_exporter": "python",
   "pygments_lexer": "ipython3",
   "version": "3.10.7"
  }
 },
 "nbformat": 4,
 "nbformat_minor": 5
}
