{
 "cells": [
  {
   "cell_type": "code",
   "execution_count": 1,
   "id": "cb55b34d",
   "metadata": {},
   "outputs": [],
   "source": [
    "import os"
   ]
  },
  {
   "cell_type": "code",
   "execution_count": 2,
   "id": "d4b11aeb",
   "metadata": {},
   "outputs": [],
   "source": [
    "import cv2"
   ]
  },
  {
   "cell_type": "code",
   "execution_count": 20,
   "id": "6b553258",
   "metadata": {},
   "outputs": [],
   "source": [
    "img = cv2.imread('birds.jpg')\n",
    "img_gray = cv2.cvtColor(img, cv2.COLOR_BGR2GRAY)"
   ]
  },
  {
   "cell_type": "code",
   "execution_count": 23,
   "id": "561b247b",
   "metadata": {},
   "outputs": [],
   "source": [
    "ret, thresh = cv2.threshold(img_gray, 127, 255, cv2.THRESH_BINARY_INV)"
   ]
  },
  {
   "cell_type": "code",
   "execution_count": 24,
   "id": "2f72834c",
   "metadata": {},
   "outputs": [],
   "source": [
    "contours, hierarchy = cv2.findContours(thresh, cv2.RETR_TREE, cv2.CHAIN_APPROX_SIMPLE)"
   ]
  },
  {
   "cell_type": "code",
   "execution_count": 28,
   "id": "05d9a157",
   "metadata": {},
   "outputs": [],
   "source": [
    "# for cnt in contours:\n",
    "# #     print(cv2.contourArea(cnt))\n",
    "#     if cv2.contourArea(cnt) > 200:\n",
    "#         cv2.drawContours(img, cnt, -1, (0, 255, 0), 1)"
   ]
  },
  {
   "cell_type": "code",
   "execution_count": 32,
   "id": "60147b04",
   "metadata": {},
   "outputs": [],
   "source": [
    "for cnt in contours:\n",
    "    if cv2.contourArea(cnt) > 200: \n",
    "        x1, y1, w, h = cv2.boundingRect(cnt)\n",
    "        cv2.rectangle(img, (x1, y1), (x1+w, y1+h), (0, 255, 0), 2)"
   ]
  },
  {
   "cell_type": "code",
   "execution_count": 33,
   "id": "191774dd",
   "metadata": {},
   "outputs": [
    {
     "data": {
      "text/plain": [
       "-1"
      ]
     },
     "execution_count": 33,
     "metadata": {},
     "output_type": "execute_result"
    }
   ],
   "source": [
    "cv2.imshow('img', img)\n",
    "# cv2.imshow('img_gray', img_gray)\n",
    "cv2.imshow('img_thres', thresh)\n",
    "\n",
    "cv2.waitKey(0)"
   ]
  },
  {
   "cell_type": "code",
   "execution_count": null,
   "id": "ec941170",
   "metadata": {},
   "outputs": [],
   "source": []
  }
 ],
 "metadata": {
  "kernelspec": {
   "display_name": "Python 3 (ipykernel)",
   "language": "python",
   "name": "python3"
  },
  "language_info": {
   "codemirror_mode": {
    "name": "ipython",
    "version": 3
   },
   "file_extension": ".py",
   "mimetype": "text/x-python",
   "name": "python",
   "nbconvert_exporter": "python",
   "pygments_lexer": "ipython3",
   "version": "3.10.7"
  }
 },
 "nbformat": 4,
 "nbformat_minor": 5
}
